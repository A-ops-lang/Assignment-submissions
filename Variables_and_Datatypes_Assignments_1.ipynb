{
  "nbformat": 4,
  "nbformat_minor": 0,
  "metadata": {
    "colab": {
      "provenance": [],
      "authorship_tag": "ABX9TyMBlWNthRdu2dtWxCtFqp2G",
      "include_colab_link": true
    },
    "kernelspec": {
      "name": "python3",
      "display_name": "Python 3"
    },
    "language_info": {
      "name": "python"
    }
  },
  "cells": [
    {
      "cell_type": "markdown",
      "metadata": {
        "id": "view-in-github",
        "colab_type": "text"
      },
      "source": [
        "<a href=\"https://colab.research.google.com/github/A-ops-lang/Assignmnet1/blob/main/Variables_and_Datatypes_Assignments_1.ipynb\" target=\"_parent\"><img src=\"https://colab.research.google.com/assets/colab-badge.svg\" alt=\"Open In Colab\"/></a>"
      ]
    },
    {
      "cell_type": "code",
      "execution_count": 1,
      "metadata": {
        "colab": {
          "base_uri": "https://localhost:8080/"
        },
        "id": "RageD7asAnvP",
        "outputId": "e7fa89aa-449f-450b-a4e6-a09ab5940de1"
      },
      "outputs": [
        {
          "output_type": "stream",
          "name": "stdout",
          "text": [
            "7\n"
          ]
        }
      ],
      "source": [
        "myint=7\n",
        "print(myint)"
      ]
    },
    {
      "cell_type": "code",
      "source": [
        "myfloat=7.0\n",
        "print(myfloat)"
      ],
      "metadata": {
        "colab": {
          "base_uri": "https://localhost:8080/"
        },
        "id": "004Ht5hEA8i3",
        "outputId": "c946ef57-0b1f-4547-bfe5-02cb2af6493c"
      },
      "execution_count": 2,
      "outputs": [
        {
          "output_type": "stream",
          "name": "stdout",
          "text": [
            "7.0\n"
          ]
        }
      ]
    },
    {
      "cell_type": "code",
      "source": [
        "myfloat==float(7)\n",
        "print(myfloat)"
      ],
      "metadata": {
        "colab": {
          "base_uri": "https://localhost:8080/"
        },
        "id": "i8lLonsMBF6I",
        "outputId": "165c39b7-e622-448a-8e4f-8d59240acdb3"
      },
      "execution_count": 3,
      "outputs": [
        {
          "output_type": "stream",
          "name": "stdout",
          "text": [
            "7.0\n"
          ]
        }
      ]
    },
    {
      "cell_type": "markdown",
      "source": [
        "Mystrings"
      ],
      "metadata": {
        "id": "DAAWMCFABVL9"
      }
    },
    {
      "cell_type": "code",
      "source": [
        "mystrings='hello'\n",
        "print(mystrings)"
      ],
      "metadata": {
        "colab": {
          "base_uri": "https://localhost:8080/"
        },
        "id": "TJBWfDVUBOnW",
        "outputId": "ccfd0006-7053-4cdd-c042-af9c6dda14c8"
      },
      "execution_count": 5,
      "outputs": [
        {
          "output_type": "stream",
          "name": "stdout",
          "text": [
            "hello\n"
          ]
        }
      ]
    },
    {
      "cell_type": "code",
      "source": [
        "mystrings=\"hello\"\n",
        "print(mystrings)"
      ],
      "metadata": {
        "colab": {
          "base_uri": "https://localhost:8080/"
        },
        "id": "uaO_6uSOBQ3l",
        "outputId": "fee91313-d91a-4b3e-c36d-78e750de4c64"
      },
      "execution_count": 6,
      "outputs": [
        {
          "output_type": "stream",
          "name": "stdout",
          "text": [
            "hello\n"
          ]
        }
      ]
    },
    {
      "cell_type": "code",
      "source": [
        "one = 1\n",
        "\n",
        "two = 2\n",
        "\n",
        "three = one + two\n",
        "\n",
        "print(three)\n",
        "\n",
        "hello = \"hello\"\n",
        "\n",
        "world = \"world\"\n",
        "\n",
        "helloworld = hello + \" \" + world\n",
        "\n",
        "print(helloworld)\n",
        "\n",
        "Assignments can be done on more than one variable \"simultaneously\" on the same line like this\n",
        "\n",
        "a, b = 3, 4\n",
        "\n",
        "print(a, b)\n",
        "\n",
        "Mixing operators between numbers and strings is not supported:\n",
        "\n",
        "one = 1\n",
        "\n",
        "two = 2\n",
        "\n",
        "hello = \"hello\"\n",
        "\n",
        "print(one + two + hello)"
      ],
      "metadata": {
        "id": "4FiyJpsSClY3"
      },
      "execution_count": null,
      "outputs": []
    },
    {
      "cell_type": "code",
      "source": [
        "one=1\n",
        "two=2\n",
        "three= one +two\n",
        "print(three)"
      ],
      "metadata": {
        "colab": {
          "base_uri": "https://localhost:8080/"
        },
        "id": "0Cdq5hwiCraG",
        "outputId": "a5bb6012-d8a3-4c38-9be0-5c79bdd4fa66"
      },
      "execution_count": 7,
      "outputs": [
        {
          "output_type": "stream",
          "name": "stdout",
          "text": [
            "3\n"
          ]
        }
      ]
    },
    {
      "cell_type": "code",
      "source": [
        "hello=\"hello\"\n",
        "world=\"world\"\n",
        "Hello_World= hello +\"\"+ world\n",
        "print(Hello_World)"
      ],
      "metadata": {
        "colab": {
          "base_uri": "https://localhost:8080/"
        },
        "id": "wI3hjS1CC7Rd",
        "outputId": "1ee3e6df-8e58-4c50-c69d-84090dc3895f"
      },
      "execution_count": 10,
      "outputs": [
        {
          "output_type": "stream",
          "name": "stdout",
          "text": [
            "helloworld\n"
          ]
        }
      ]
    },
    {
      "cell_type": "code",
      "source": [
        "a, b = 3, 4\n",
        "\n",
        "print(a, b)"
      ],
      "metadata": {
        "colab": {
          "base_uri": "https://localhost:8080/"
        },
        "id": "HsM5TyGlDhxh",
        "outputId": "b83373bc-8c38-4651-b8f8-5fe168cb4860"
      },
      "execution_count": 14,
      "outputs": [
        {
          "output_type": "stream",
          "name": "stdout",
          "text": [
            "3 4\n"
          ]
        }
      ]
    },
    {
      "cell_type": "code",
      "source": [
        "hello , world =\"helllo\" , \"World\"\n",
        "\n",
        "print(world)"
      ],
      "metadata": {
        "colab": {
          "base_uri": "https://localhost:8080/"
        },
        "id": "jf7jLe57Dyti",
        "outputId": "99f4b221-9c0d-4227-cc49-b342389cf5e5"
      },
      "execution_count": 18,
      "outputs": [
        {
          "output_type": "stream",
          "name": "stdout",
          "text": [
            "World\n"
          ]
        }
      ]
    },
    {
      "cell_type": "code",
      "source": [
        "one = 1\n",
        "\n",
        "two = 2\n",
        "\n",
        "hello = \"hello\"\n",
        "\n",
        "print(one , two , hello)"
      ],
      "metadata": {
        "colab": {
          "base_uri": "https://localhost:8080/"
        },
        "id": "4c-ksTyBEXOn",
        "outputId": "30b39957-5a0e-47f0-8220-9561cf53cccd"
      },
      "execution_count": 27,
      "outputs": [
        {
          "output_type": "stream",
          "name": "stdout",
          "text": [
            "1 2 hello\n"
          ]
        }
      ]
    },
    {
      "cell_type": "code",
      "source": [
        "# change this code\n",
        "\n",
        "mystring = None\n",
        "\n",
        "myfloat = None\n",
        "\n",
        "myint = None\n",
        "\n",
        "# testing code\n",
        "\n",
        "if mystring == \"hello\":\n",
        "\n",
        "  print(\"String: %s\" % mystring)\n",
        "\n",
        "if isinstance(myfloat, float) and myfloat == 10.0:\n",
        "\n",
        "  print(\"Float: %f\" % myfloat)\n",
        "\n",
        "if isinstance(myint, int) and myint == 20:\n",
        "\n",
        "  print(\"Integer: %d\" % myint)"
      ],
      "metadata": {
        "id": "NPom8SvMEswd"
      },
      "execution_count": null,
      "outputs": []
    },
    {
      "cell_type": "code",
      "source": [
        "mystring = 'hello'\n",
        "\n",
        "myfloat = 10.0\n",
        "\n",
        "myint = 20\n",
        "\n",
        "if mystring == 'hello':\n",
        "\n",
        "  print(\"String : %s\" % mystring)\n",
        "\n",
        "if isinstance( myfloat , float) and myfloat == 10.0:\n",
        "\n",
        "   print(\"float : %f \" % myfloat)\n",
        "\n",
        "if isinstance(myint , int)  and myint == 20:\n",
        "\n",
        "   print('integer : %d' % myint)"
      ],
      "metadata": {
        "colab": {
          "base_uri": "https://localhost:8080/"
        },
        "id": "chlqAY7_G_2p",
        "outputId": "e636a9d5-131b-4517-ea7a-c5c745ff2dc7"
      },
      "execution_count": 34,
      "outputs": [
        {
          "output_type": "stream",
          "name": "stdout",
          "text": [
            "String : hello\n",
            "float : 10.000000 \n",
            "integer : 20\n"
          ]
        }
      ]
    }
  ]
}